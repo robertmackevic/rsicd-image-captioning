{
 "cells": [
  {
   "metadata": {},
   "cell_type": "code",
   "source": [
    "from pathlib import Path\n",
    "\n",
    "from torchrs.datasets import RSICD\n",
    "\n",
    "from src.inference import RSICDCaptionGenerator\n",
    "from src.paths import DATASET_DIR"
   ],
   "id": "dc3c1572bd18cd22",
   "outputs": [],
   "execution_count": null
  },
  {
   "metadata": {},
   "cell_type": "code",
   "source": [
    "caption_generator = RSICDCaptionGenerator(\n",
    "    weights_filepath=Path(\".runs/v1/weights_best.pth\"),\n",
    "    tokenizer_filepath=Path(\".runs/v1/tokenizer.json\"),\n",
    "    config_filepath=Path(\".runs/v1/config.json\"),\n",
    ")\n",
    "\n",
    "dataset = RSICD(DATASET_DIR, split=\"test\")"
   ],
   "id": "bea1db3cf6eef52c",
   "outputs": [],
   "execution_count": null
  },
  {
   "metadata": {},
   "cell_type": "code",
   "source": [
    "caption_generator.caption_image_from_tensor(\n",
    "    tensor=dataset[0][\"x\"],\n",
    "    top_k=3,\n",
    "    show_attention=True,\n",
    ")"
   ],
   "id": "70e71cc69d946ac1",
   "outputs": [],
   "execution_count": null
  },
  {
   "metadata": {},
   "cell_type": "code",
   "source": [
    "caption_generator.caption_image_from_url(\n",
    "    url=\"https://storage.googleapis.com/gweb-uniblog-publish-prod/images/google-earth-satellite-image_1.width-1300.jpg\",\n",
    "    top_k=3,\n",
    "    show_attention=True\n",
    ")"
   ],
   "id": "309e2708cf06288c",
   "outputs": [],
   "execution_count": null
  }
 ],
 "metadata": {
  "kernelspec": {
   "display_name": "Python 3",
   "language": "python",
   "name": "python3"
  },
  "language_info": {
   "codemirror_mode": {
    "name": "ipython",
    "version": 2
   },
   "file_extension": ".py",
   "mimetype": "text/x-python",
   "name": "python",
   "nbconvert_exporter": "python",
   "pygments_lexer": "ipython2",
   "version": "2.7.6"
  }
 },
 "nbformat": 4,
 "nbformat_minor": 5
}
