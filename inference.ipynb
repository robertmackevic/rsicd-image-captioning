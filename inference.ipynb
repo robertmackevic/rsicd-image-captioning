{
 "cells": [
  {
   "metadata": {},
   "cell_type": "code",
   "source": [
    "from pathlib import Path\n",
    "\n",
    "from torchrs.datasets import RSICD\n",
    "\n",
    "from src.inference import RSICDCaptionGenerator\n",
    "from src.paths import DATASET_DIR\n",
    "from src.utils import extract_rsicd_dataset"
   ],
   "id": "dc3c1572bd18cd22",
   "outputs": [],
   "execution_count": null
  },
  {
   "metadata": {},
   "cell_type": "code",
   "source": [
    "extract_rsicd_dataset(Path(r\"RSICD.zip\"))\n",
    "dataset = RSICD(DATASET_DIR, split=\"test\")"
   ],
   "id": "907166053976b7c1",
   "outputs": [],
   "execution_count": null
  },
  {
   "metadata": {},
   "cell_type": "code",
   "source": [
    "model_version = \"transformer18\"\n",
    "caption_generator = RSICDCaptionGenerator(\n",
    "    weights_filepath=Path(f\".runs/{model_version}/weights_best.pth\"),\n",
    "    tokenizer_filepath=Path(f\".runs/{model_version}/tokenizer.json\"),\n",
    "    config_filepath=Path(f\".runs/{model_version}/config.json\"),\n",
    ")"
   ],
   "id": "bea1db3cf6eef52c",
   "outputs": [],
   "execution_count": null
  },
  {
   "metadata": {},
   "cell_type": "code",
   "source": [
    "index = 777\n",
    "caption_generator.caption_image_from_tensor(\n",
    "    tensor=dataset[index][\"x\"],\n",
    "    top_k=3,\n",
    "    show_attention=True,\n",
    ")\n",
    "\n",
    "print(\"Ground truth caption:\")\n",
    "for caption in dataset[index][\"captions\"]:\n",
    "    print(caption)"
   ],
   "id": "70e71cc69d946ac1",
   "outputs": [],
   "execution_count": null
  },
  {
   "metadata": {},
   "cell_type": "code",
   "source": [
    "caption_generator.caption_image_from_url(\n",
    "    url=\"https://storage.googleapis.com/gweb-uniblog-publish-prod/images/google-earth-satellite-image_1.width-1300.jpg\",\n",
    "    top_k=3,\n",
    "    show_attention=True\n",
    ")"
   ],
   "id": "309e2708cf06288c",
   "outputs": [],
   "execution_count": null
  }
 ],
 "metadata": {
  "kernelspec": {
   "display_name": "Python 3",
   "language": "python",
   "name": "python3"
  },
  "language_info": {
   "codemirror_mode": {
    "name": "ipython",
    "version": 2
   },
   "file_extension": ".py",
   "mimetype": "text/x-python",
   "name": "python",
   "nbconvert_exporter": "python",
   "pygments_lexer": "ipython2",
   "version": "2.7.6"
  }
 },
 "nbformat": 4,
 "nbformat_minor": 5
}
