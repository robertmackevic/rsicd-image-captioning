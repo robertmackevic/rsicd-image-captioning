{
 "cells": [
  {
   "cell_type": "code",
   "id": "initial_id",
   "metadata": {
    "collapsed": true,
    "ExecuteTime": {
     "end_time": "2024-05-17T22:25:53.301792Z",
     "start_time": "2024-05-17T22:25:50.723305Z"
    }
   },
   "source": [
    "from collections import defaultdict\n",
    "from statistics import mean\n",
    "\n",
    "from torchrs.datasets import RSICD\n",
    "\n",
    "from src.data.vocab import Vocab\n",
    "from src.paths import DATASET_DIR"
   ],
   "outputs": [],
   "execution_count": 1
  },
  {
   "metadata": {
    "ExecuteTime": {
     "end_time": "2024-05-17T22:26:45.407514Z",
     "start_time": "2024-05-17T22:26:45.400512Z"
    }
   },
   "cell_type": "code",
   "source": [
    "def summary(dataset: RSICD, vocab: Vocab, _train_vocab: Vocab) -> None:\n",
    "    captions_per_image = []\n",
    "    words_per_caption = []\n",
    "    image_sizes = []\n",
    "\n",
    "    token_frequencies = defaultdict(int)\n",
    "\n",
    "    for i in range(len(dataset)):\n",
    "        sample = dataset[i]\n",
    "        image = sample[\"x\"]\n",
    "        captions = sample[\"captions\"]\n",
    "        captions_per_image.append(len(captions))\n",
    "        words_per_caption.extend(len(caption.split()) for caption in captions)\n",
    "        image_sizes.append((image.size(0), image.size(1), image.size(2)))\n",
    "\n",
    "        for caption in captions:\n",
    "            for token in caption.split():\n",
    "                token_frequencies[token] += 1\n",
    "\n",
    "    token_frequencies = dict(sorted(token_frequencies.items(), key=lambda item: item[1], reverse=True))\n",
    "\n",
    "    print(\"Number of images:\", len(dataset))\n",
    "    print(\"Unique image sizes:\", set(image_sizes))\n",
    "    print(\"All images have same number of captions:\", len(set(captions_per_image)) == 1)\n",
    "    print(\"Number of captions per image:\", mean(captions_per_image))\n",
    "    print(\"Number of captions:\", sum(captions_per_image))\n",
    "    print(\"Max words per caption:\", max(words_per_caption))\n",
    "    print(\"Min words per caption:\", min(words_per_caption))\n",
    "    print(f\"Mean words per caption: {mean(words_per_caption):.3f}\")\n",
    "    print(\"Total number of words:\", sum(words_per_caption))\n",
    "    print(\"Number of tokens:\", len(vocab))\n",
    "    print(\"Number of tokens (frequency >= 10000):\", sum(freq >= 10000 for freq in token_frequencies.values()))\n",
    "    print(\"Number of tokens (frequency >= 1000):\", sum(freq >= 1000 for freq in token_frequencies.values()))\n",
    "    print(\"Number of tokens (frequency >= 100):\", sum(freq >= 100 for freq in token_frequencies.values()))\n",
    "    print(\"Number of tokens (frequency >= 10):\", sum(freq >= 10 for freq in token_frequencies.values()))\n",
    "    print(\"Number of tokens (frequency < 10):\", sum(freq < 10 for freq in token_frequencies.values()))\n",
    "    print(\"Number of tokens that are not present in the training data:\",\n",
    "          sum(token not in _train_vocab.token_to_id for token in vocab.token_to_id.keys()))\n",
    "\n",
    "    top_k = 10\n",
    "    print(f\"Top {top_k} most frequent tokens:\")\n",
    "    for i, (token, freq) in enumerate(token_frequencies.items()):\n",
    "        if i >= top_k:\n",
    "            break\n",
    "        print(f\"\\t{token}: {freq}\")"
   ],
   "id": "1bfa96e9919f8ec9",
   "outputs": [],
   "execution_count": 5
  },
  {
   "metadata": {
    "ExecuteTime": {
     "end_time": "2024-05-17T22:26:10.973196Z",
     "start_time": "2024-05-17T22:25:53.311292Z"
    }
   },
   "cell_type": "code",
   "source": [
    "train_dataset = RSICD(DATASET_DIR, split=\"train\")\n",
    "val_dataset = RSICD(DATASET_DIR, split=\"val\")\n",
    "test_dataset = RSICD(DATASET_DIR, split=\"test\")\n",
    "\n",
    "train_vocab = Vocab.init_from_data(train_dataset)\n",
    "val_vocab = Vocab.init_from_data(val_dataset)\n",
    "test_vocab = Vocab.init_from_data(test_dataset)"
   ],
   "id": "6e0c9921c599d0fd",
   "outputs": [],
   "execution_count": 3
  },
  {
   "metadata": {
    "ExecuteTime": {
     "end_time": "2024-05-17T22:27:00.198430Z",
     "start_time": "2024-05-17T22:26:46.472505Z"
    }
   },
   "cell_type": "code",
   "source": "summary(train_dataset, train_vocab, train_vocab)",
   "id": "817fa96d2aa009a",
   "outputs": [
    {
     "name": "stdout",
     "output_type": "stream",
     "text": [
      "Number of images: 8734\n",
      "Unique image sizes: {(3, 224, 224)}\n",
      "All images have same number of captions: True\n",
      "Number of captions per image: 5\n",
      "Number of captions: 43670\n",
      "Max words per caption: 35\n",
      "Min words per caption: 1\n",
      "Mean words per caption: 11.636\n",
      "Total number of words: 508127\n",
      "Number of tokens: 2606\n",
      "Number of tokens (frequency >= 10000): 14\n",
      "Number of tokens (frequency >= 1000): 75\n",
      "Number of tokens (frequency >= 100): 249\n",
      "Number of tokens (frequency >= 10): 802\n",
      "Number of tokens (frequency < 10): 1800\n",
      "Number of tokens that are not present in the training data: 0\n",
      "Top 10 most frequent tokens:\n",
      "\t.: 43670\n",
      "\ta: 41732\n",
      "\tare: 25698\n",
      "\tgreen: 21088\n",
      "\tmany: 18872\n",
      "\tin: 17510\n",
      "\ttrees: 17268\n",
      "\tand: 16626\n",
      "\tof: 15084\n",
      "\tthe: 14157\n"
     ]
    }
   ],
   "execution_count": 6
  },
  {
   "metadata": {
    "ExecuteTime": {
     "end_time": "2024-05-17T22:27:01.842921Z",
     "start_time": "2024-05-17T22:27:00.199930Z"
    }
   },
   "cell_type": "code",
   "source": "summary(val_dataset, val_vocab, train_vocab)",
   "id": "e8749fd3ddad1ceb",
   "outputs": [
    {
     "name": "stdout",
     "output_type": "stream",
     "text": [
      "Number of images: 1094\n",
      "Unique image sizes: {(3, 224, 224)}\n",
      "All images have same number of captions: True\n",
      "Number of captions per image: 5\n",
      "Number of captions: 5470\n",
      "Max words per caption: 27\n",
      "Min words per caption: 1\n",
      "Mean words per caption: 9.937\n",
      "Total number of words: 54356\n",
      "Number of tokens: 1171\n",
      "Number of tokens (frequency >= 10000): 0\n",
      "Number of tokens (frequency >= 1000): 12\n",
      "Number of tokens (frequency >= 100): 83\n",
      "Number of tokens (frequency >= 10): 263\n",
      "Number of tokens (frequency < 10): 904\n",
      "Number of tokens that are not present in the training data: 310\n",
      "Top 10 most frequent tokens:\n",
      "\t.: 5469\n",
      "\ta: 4226\n",
      "\tare: 2763\n",
      "\tgreen: 2308\n",
      "\tthe: 2071\n",
      "\tmany: 1926\n",
      "\tin: 1895\n",
      "\ttrees: 1640\n",
      "\tof: 1552\n",
      "\tis: 1521\n"
     ]
    }
   ],
   "execution_count": 7
  },
  {
   "metadata": {
    "ExecuteTime": {
     "end_time": "2024-05-17T22:27:17.596336Z",
     "start_time": "2024-05-17T22:27:15.810848Z"
    }
   },
   "cell_type": "code",
   "source": "summary(test_dataset, test_vocab, train_vocab)",
   "id": "b76e7aba8f9b4044",
   "outputs": [
    {
     "name": "stdout",
     "output_type": "stream",
     "text": [
      "Number of images: 1093\n",
      "Unique image sizes: {(3, 224, 224)}\n",
      "All images have same number of captions: True\n",
      "Number of captions per image: 5\n",
      "Number of captions: 5465\n",
      "Max words per caption: 33\n",
      "Min words per caption: 6\n",
      "Mean words per caption: 12.368\n",
      "Total number of words: 67593\n",
      "Number of tokens: 1565\n",
      "Number of tokens (frequency >= 10000): 0\n",
      "Number of tokens (frequency >= 1000): 11\n",
      "Number of tokens (frequency >= 100): 113\n",
      "Number of tokens (frequency >= 10): 454\n",
      "Number of tokens (frequency < 10): 1107\n",
      "Number of tokens that are not present in the training data: 433\n",
      "Top 10 most frequent tokens:\n",
      "\t.: 5465\n",
      "\tthe: 4386\n",
      "\ta: 4271\n",
      "\tis: 2505\n",
      "\tof: 1922\n",
      "\tare: 1721\n",
      "\twith: 1528\n",
      "\tand: 1522\n",
      "\tin: 1389\n",
      "\tthere: 1159\n"
     ]
    }
   ],
   "execution_count": 10
  }
 ],
 "metadata": {
  "kernelspec": {
   "display_name": "Python 3",
   "language": "python",
   "name": "python3"
  },
  "language_info": {
   "codemirror_mode": {
    "name": "ipython",
    "version": 2
   },
   "file_extension": ".py",
   "mimetype": "text/x-python",
   "name": "python",
   "nbconvert_exporter": "python",
   "pygments_lexer": "ipython2",
   "version": "2.7.6"
  }
 },
 "nbformat": 4,
 "nbformat_minor": 5
}
