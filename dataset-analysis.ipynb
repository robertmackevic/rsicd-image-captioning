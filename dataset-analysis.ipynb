{
 "cells": [
  {
   "cell_type": "code",
   "id": "initial_id",
   "metadata": {
    "collapsed": true,
    "ExecuteTime": {
     "end_time": "2024-05-10T17:52:15.432263Z",
     "start_time": "2024-05-10T17:52:13.395782Z"
    }
   },
   "source": [
    "from pathlib import Path\n",
    "\n",
    "from torchrs.datasets import RSICD\n",
    "\n",
    "from src.paths import DATASET_DIR\n",
    "from src.utils import extract_rsicd_dataset\n",
    "from src.vocab import Vocab"
   ],
   "outputs": [],
   "execution_count": 1
  },
  {
   "cell_type": "code",
   "source": [
    "def summary(dataset: RSICD) -> None:\n",
    "    vocab = Vocab(dataset)\n",
    "    print(\"Number of samples:\", len(dataset))\n",
    "    print(\"Image size:\", dataset[0][\"x\"].size())\n",
    "    print(\"Number of captions:\", len(dataset) * 5)\n",
    "    print(\"Number of captions per sample:\", len(dataset[0][\"captions\"]))\n",
    "    print(\"Number of tokens:\", len(vocab))\n",
    "    print(\"Number of words:\", sum(freq[1] for freq in vocab.frequencies))\n",
    "    print(\"10 most frequent tokens:\", vocab.frequencies[:10])"
   ],
   "metadata": {
    "collapsed": false,
    "ExecuteTime": {
     "end_time": "2024-05-10T17:52:15.437261Z",
     "start_time": "2024-05-10T17:52:15.433259Z"
    }
   },
   "id": "c3481ab3254fe385",
   "outputs": [],
   "execution_count": 2
  },
  {
   "cell_type": "code",
   "source": [
    "extract_rsicd_dataset(Path(r\"RSICD.zip\"))\n",
    "\n",
    "train_dataset = RSICD(root=DATASET_DIR, split=\"train\")\n",
    "val_dataset = RSICD(root=DATASET_DIR, split=\"val\")\n",
    "test_dataset = RSICD(root=DATASET_DIR, split=\"test\")"
   ],
   "metadata": {
    "collapsed": false,
    "ExecuteTime": {
     "end_time": "2024-05-10T17:52:20.261714Z",
     "start_time": "2024-05-10T17:52:15.438260Z"
    }
   },
   "id": "81c1d9434819f941",
   "outputs": [
    {
     "name": "stdout",
     "output_type": "stream",
     "text": [
      "Unzipping...\n",
      "Dataset extracted.\n"
     ]
    }
   ],
   "execution_count": 3
  },
  {
   "cell_type": "code",
   "source": [
    "summary(train_dataset)"
   ],
   "metadata": {
    "collapsed": false,
    "ExecuteTime": {
     "end_time": "2024-05-10T17:52:30.052104Z",
     "start_time": "2024-05-10T17:52:20.262707Z"
    }
   },
   "id": "8f2a031ba6a86960",
   "outputs": [
    {
     "name": "stdout",
     "output_type": "stream",
     "text": [
      "Number of samples: 8734\n",
      "Image size: torch.Size([3, 224, 224])\n",
      "Number of captions: 43670\n",
      "Number of captions per sample: 5\n",
      "Number of tokens: 2606\n",
      "Number of words: 508127\n",
      "10 most frequent tokens: [('.', 43670), ('a', 41732), ('are', 25698), ('green', 21088), ('many', 18872), ('in', 17510), ('trees', 17268), ('and', 16626), ('of', 15084), ('the', 14157)]\n"
     ]
    }
   ],
   "execution_count": 4
  },
  {
   "cell_type": "code",
   "source": [
    "summary(val_dataset)"
   ],
   "metadata": {
    "collapsed": false,
    "ExecuteTime": {
     "end_time": "2024-05-10T17:52:31.349588Z",
     "start_time": "2024-05-10T17:52:30.053603Z"
    }
   },
   "id": "868fc7f07984c505",
   "outputs": [
    {
     "name": "stdout",
     "output_type": "stream",
     "text": [
      "Number of samples: 1094\n",
      "Image size: torch.Size([3, 224, 224])\n",
      "Number of captions: 5470\n",
      "Number of captions per sample: 5\n",
      "Number of tokens: 1171\n",
      "Number of words: 54356\n",
      "10 most frequent tokens: [('.', 5469), ('a', 4226), ('are', 2763), ('green', 2308), ('the', 2071), ('many', 1926), ('in', 1895), ('trees', 1640), ('of', 1552), ('is', 1521)]\n"
     ]
    }
   ],
   "execution_count": 5
  },
  {
   "cell_type": "code",
   "source": [
    "summary(test_dataset)"
   ],
   "metadata": {
    "collapsed": false,
    "ExecuteTime": {
     "end_time": "2024-05-10T17:52:32.590575Z",
     "start_time": "2024-05-10T17:52:31.350588Z"
    }
   },
   "id": "71eb7a3dc203cede",
   "outputs": [
    {
     "name": "stdout",
     "output_type": "stream",
     "text": [
      "Number of samples: 1093\n",
      "Image size: torch.Size([3, 224, 224])\n",
      "Number of captions: 5465\n",
      "Number of captions per sample: 5\n",
      "Number of tokens: 1565\n",
      "Number of words: 67593\n",
      "10 most frequent tokens: [('.', 5465), ('the', 4386), ('a', 4271), ('is', 2505), ('of', 1922), ('are', 1721), ('with', 1528), ('and', 1522), ('in', 1389), ('there', 1159)]\n"
     ]
    }
   ],
   "execution_count": 6
  }
 ],
 "metadata": {
  "kernelspec": {
   "display_name": "Python 3",
   "language": "python",
   "name": "python3"
  },
  "language_info": {
   "codemirror_mode": {
    "name": "ipython",
    "version": 2
   },
   "file_extension": ".py",
   "mimetype": "text/x-python",
   "name": "python",
   "nbconvert_exporter": "python",
   "pygments_lexer": "ipython2",
   "version": "2.7.6"
  }
 },
 "nbformat": 4,
 "nbformat_minor": 5
}
